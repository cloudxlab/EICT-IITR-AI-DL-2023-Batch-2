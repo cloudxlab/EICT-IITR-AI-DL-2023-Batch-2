{
  "cells": [
    {
      "cell_type": "markdown",
      "metadata": {
        "id": "LQFIz9Omd6Us"
      },
      "source": [
        "# Writing Functions - Python\n",
        "\n",
        "A function is basically a sequence of operations. It may take inputs via arguments. And it may give the result by returning value.\n",
        "\n",
        "Let us define a function square which basically gives square of whatever we pass as argument.\n",
        "\n",
        "You can visualize a function like this. There is input and there is output."
      ]
    },
    {
      "cell_type": "code",
      "execution_count": 1,
      "metadata": {
        "id": "uHBc7X8Fd6Ut"
      },
      "outputs": [],
      "source": [
        "def sq(x):\n",
        "    return x*x"
      ]
    },
    {
      "cell_type": "code",
      "execution_count": 2,
      "metadata": {
        "scrolled": true,
        "colab": {
          "base_uri": "https://localhost:8080/"
        },
        "id": "A7M3p_QGd6Uu",
        "outputId": "9600acfc-0af9-490e-db2a-8feefe27e811"
      },
      "outputs": [
        {
          "output_type": "execute_result",
          "data": {
            "text/plain": [
              "16"
            ]
          },
          "metadata": {},
          "execution_count": 2
        }
      ],
      "source": [
        "sq(4)"
      ]
    },
    {
      "cell_type": "code",
      "execution_count": 3,
      "metadata": {
        "colab": {
          "base_uri": "https://localhost:8080/"
        },
        "id": "ElxvhTb6d6Uv",
        "outputId": "d43f8911-36aa-44bd-b3a4-589526b9118c"
      },
      "outputs": [
        {
          "output_type": "execute_result",
          "data": {
            "text/plain": [
              "100"
            ]
          },
          "metadata": {},
          "execution_count": 3
        }
      ],
      "source": [
        "sq(10)"
      ]
    },
    {
      "cell_type": "markdown",
      "metadata": {
        "id": "PdsZInScd6Uw"
      },
      "source": [
        "A function could also take multiple arguments\n",
        "\n",
        "![image.png](attachment:image.png)"
      ]
    },
    {
      "cell_type": "code",
      "execution_count": 4,
      "metadata": {
        "colab": {
          "base_uri": "https://localhost:8080/"
        },
        "id": "nmRM0Obzd6Uw",
        "outputId": "f7992b3f-febe-494c-d4ae-a8fd95e9607a"
      },
      "outputs": [
        {
          "output_type": "execute_result",
          "data": {
            "text/plain": [
              "30"
            ]
          },
          "metadata": {},
          "execution_count": 4
        }
      ],
      "source": [
        "# function could also take multiple arguments\n",
        "# Here a and b are the two arguments and function is returning a single value.\n",
        "def add(a, b):\n",
        "    return a+b\n",
        "\n",
        "add(10, 20)"
      ]
    },
    {
      "cell_type": "code",
      "execution_count": 5,
      "metadata": {
        "colab": {
          "base_uri": "https://localhost:8080/"
        },
        "id": "Xd9wwW_Cd6Ux",
        "outputId": "6b4d37ea-c66e-48d5-9ab3-627c2f26a9bd"
      },
      "outputs": [
        {
          "output_type": "execute_result",
          "data": {
            "text/plain": [
              "130.5"
            ]
          },
          "metadata": {},
          "execution_count": 5
        }
      ],
      "source": [
        "add(10.5, 120)"
      ]
    },
    {
      "cell_type": "markdown",
      "metadata": {
        "id": "_MilsDQad6Ux"
      },
      "source": [
        "## Variable arguments to a function"
      ]
    },
    {
      "cell_type": "code",
      "execution_count": 6,
      "metadata": {
        "id": "BAsHFEmid6Ux"
      },
      "outputs": [],
      "source": [
        "# We can define functions with variable arguments\n",
        "def sum(*args):\n",
        "    s = 0\n",
        "    for i in args:\n",
        "        s += i\n",
        "    return s"
      ]
    },
    {
      "cell_type": "code",
      "execution_count": 7,
      "metadata": {
        "colab": {
          "base_uri": "https://localhost:8080/"
        },
        "id": "4ITCEE-sd6Ux",
        "outputId": "7ce94a39-be33-4af3-c95b-6add38a11e46"
      },
      "outputs": [
        {
          "output_type": "execute_result",
          "data": {
            "text/plain": [
              "1"
            ]
          },
          "metadata": {},
          "execution_count": 7
        }
      ],
      "source": [
        "sum(1)"
      ]
    },
    {
      "cell_type": "code",
      "execution_count": 8,
      "metadata": {
        "colab": {
          "base_uri": "https://localhost:8080/"
        },
        "id": "MEO9x5iJd6Uy",
        "outputId": "b6b97e83-eac8-42b0-ac7a-b73d7677ee1c"
      },
      "outputs": [
        {
          "output_type": "execute_result",
          "data": {
            "text/plain": [
              "5"
            ]
          },
          "metadata": {},
          "execution_count": 8
        }
      ],
      "source": [
        "sum(2, 3)"
      ]
    },
    {
      "cell_type": "code",
      "execution_count": 9,
      "metadata": {
        "colab": {
          "base_uri": "https://localhost:8080/"
        },
        "id": "tmmE1aVhd6Uy",
        "outputId": "b48eab1e-90e5-4ea6-932a-2790da4bac1c"
      },
      "outputs": [
        {
          "output_type": "execute_result",
          "data": {
            "text/plain": [
              "9"
            ]
          },
          "metadata": {},
          "execution_count": 9
        }
      ],
      "source": [
        "sum(2, 3, 4)"
      ]
    },
    {
      "cell_type": "markdown",
      "metadata": {
        "id": "zPXugjT4d6Uy"
      },
      "source": [
        "## Calling a function with variable arguments"
      ]
    },
    {
      "cell_type": "code",
      "execution_count": 10,
      "metadata": {
        "colab": {
          "base_uri": "https://localhost:8080/"
        },
        "id": "urX2eR4cd6Uy",
        "outputId": "4d3d8a39-b9f0-4e3c-93ef-e2422af9892f"
      },
      "outputs": [
        {
          "output_type": "execute_result",
          "data": {
            "text/plain": [
              "3"
            ]
          },
          "metadata": {},
          "execution_count": 10
        }
      ],
      "source": [
        "# If we have a usual function such as the following:\n",
        "\n",
        "def add(a, b, c):\n",
        "    return a+b+c\n",
        "\n",
        "# we can call it using variable argument by putting an asterix\n",
        "arr = range(3)\n",
        "arr\n",
        "add(*arr)"
      ]
    },
    {
      "cell_type": "markdown",
      "metadata": {
        "id": "IyyCyJEFd6Uz"
      },
      "source": [
        "## Passing a function as argument\n",
        "\n",
        "In python, you can pass a function in another function just like another variable."
      ]
    },
    {
      "cell_type": "code",
      "execution_count": 11,
      "metadata": {
        "colab": {
          "base_uri": "https://localhost:8080/"
        },
        "id": "NMT4Z-bHd6Uz",
        "outputId": "4435f947-1fab-49bd-eff5-c9652b4e38a0"
      },
      "outputs": [
        {
          "output_type": "execute_result",
          "data": {
            "text/plain": [
              "[2, 4, 6]"
            ]
          },
          "metadata": {},
          "execution_count": 11
        }
      ],
      "source": [
        "def double_it(x):\n",
        "    return 2*x\n",
        "\n",
        "def apply_transformation(f, arr):\n",
        "    result = []\n",
        "    for a in arr:\n",
        "        v = f(a)\n",
        "        result.append(v)\n",
        "    return result\n",
        "apply_transformation(double_it, [1,2,3])"
      ]
    },
    {
      "cell_type": "code",
      "execution_count": 12,
      "metadata": {
        "colab": {
          "base_uri": "https://localhost:8080/"
        },
        "id": "MZZkGejtd6U0",
        "outputId": "8514f7f3-bf2e-4ac0-f5f8-65822b4bd98c"
      },
      "outputs": [
        {
          "output_type": "execute_result",
          "data": {
            "text/plain": [
              "[1, 4, 9]"
            ]
          },
          "metadata": {},
          "execution_count": 12
        }
      ],
      "source": [
        "# Similarly we can us another function - the one that we defined above.\n",
        "apply_transformation(sq, [1,2,3])"
      ]
    },
    {
      "cell_type": "markdown",
      "metadata": {
        "id": "V46woKaHd6U0"
      },
      "source": [
        "# Differentiation\n",
        "\n",
        "Differentiation is basically about finding the rate of change.\n",
        "\n",
        "Rate of change of distance is velocity. Rate of change of velocity is acceleration.\n",
        "\n",
        "If you plot rate of change of y with respect to x for a straight line y = mx +c , you will get a constant horizontal line.\n",
        "\n",
        "If you plot, rate of change of y with respect to x for a parabola, it gives a straight line.\n",
        "\n",
        "![image.png](attachment:image.png)"
      ]
    },
    {
      "cell_type": "markdown",
      "metadata": {
        "id": "kjSECJcYd6U0"
      },
      "source": [
        "![image.png](attachment:image.png)"
      ]
    },
    {
      "cell_type": "markdown",
      "metadata": {
        "id": "GnOpTVJkd6U0"
      },
      "source": [
        "## Numeric Differentiation"
      ]
    },
    {
      "cell_type": "markdown",
      "metadata": {
        "id": "8Ozu7pEId6U0"
      },
      "source": [
        "![image.png](attachment:image.png)"
      ]
    },
    {
      "cell_type": "code",
      "execution_count": 13,
      "metadata": {
        "id": "N_WdxbBnd6U0"
      },
      "outputs": [],
      "source": [
        "# Slightly increase x and compute the result.\n",
        "# Then compute the ratio of change in result with change in x\n",
        "\n",
        "def diff(fn, x):\n",
        "    delta = 0.000000000001\n",
        "    y = fn(x)\n",
        "    x1 = x + delta\n",
        "    y1 = fn(x1)\n",
        "    return (y1 - y)/(x1 - x)"
      ]
    },
    {
      "cell_type": "code",
      "execution_count": 14,
      "metadata": {
        "colab": {
          "base_uri": "https://localhost:8080/"
        },
        "id": "XVtjKBCnd6U1",
        "outputId": "ab836c77-20d7-4cd3-e767-1d12a5dff6ce"
      },
      "outputs": [
        {
          "output_type": "execute_result",
          "data": {
            "text/plain": [
              "4.0"
            ]
          },
          "metadata": {},
          "execution_count": 14
        }
      ],
      "source": [
        "diff(sq, 2)"
      ]
    },
    {
      "cell_type": "code",
      "execution_count": 15,
      "metadata": {
        "colab": {
          "base_uri": "https://localhost:8080/"
        },
        "id": "qRRMCF1Dd6U1",
        "outputId": "ff4e9ee1-3100-4f1e-9a36-d16afb5379f4"
      },
      "outputs": [
        {
          "output_type": "execute_result",
          "data": {
            "text/plain": [
              "4"
            ]
          },
          "metadata": {},
          "execution_count": 15
        }
      ],
      "source": [
        "x = 2\n",
        "2*x"
      ]
    },
    {
      "cell_type": "code",
      "execution_count": 16,
      "metadata": {
        "colab": {
          "base_uri": "https://localhost:8080/"
        },
        "id": "WModSyH9d6U1",
        "outputId": "3595ac31-0a31-4dfa-f591-0e09e9741f0b"
      },
      "outputs": [
        {
          "output_type": "execute_result",
          "data": {
            "text/plain": [
              "1000"
            ]
          },
          "metadata": {},
          "execution_count": 16
        }
      ],
      "source": [
        "def cb(x):\n",
        "    return x*x*x\n",
        "cb(10)"
      ]
    },
    {
      "cell_type": "code",
      "execution_count": 17,
      "metadata": {
        "colab": {
          "base_uri": "https://localhost:8080/"
        },
        "id": "G6bIKbhsd6U1",
        "outputId": "6821bf52-d03f-4f74-ac51-866859333745"
      },
      "outputs": [
        {
          "output_type": "execute_result",
          "data": {
            "text/plain": [
              "12.0"
            ]
          },
          "metadata": {},
          "execution_count": 17
        }
      ],
      "source": [
        "diff(cb, 2)"
      ]
    },
    {
      "cell_type": "code",
      "execution_count": 18,
      "metadata": {
        "colab": {
          "base_uri": "https://localhost:8080/"
        },
        "id": "xHdf4jNDd6U1",
        "outputId": "bbd684d0-474b-447d-bd60-611960d27543"
      },
      "outputs": [
        {
          "output_type": "execute_result",
          "data": {
            "text/plain": [
              "12"
            ]
          },
          "metadata": {},
          "execution_count": 18
        }
      ],
      "source": [
        "# If you know symbolic / algebric differentiation,\n",
        "# you would be knowing that the differentiation of an algebric function x^3 is 3*x^2.\n",
        "# The result that we computed above is same as the algebric differentiation\n",
        "x = 2\n",
        "3*x**2"
      ]
    },
    {
      "cell_type": "markdown",
      "metadata": {
        "id": "YID2itHrd6U1"
      },
      "source": [
        "## Partial Derivative\n",
        "\n",
        "If there is function which is taking multiple inputs, the rate of change of output could be computed with respect of any of the inputs.\n"
      ]
    },
    {
      "cell_type": "code",
      "execution_count": 19,
      "metadata": {
        "colab": {
          "base_uri": "https://localhost:8080/"
        },
        "id": "K4Gp6b6Fd6U1",
        "outputId": "821a075e-f430-4a5a-d928-7181d75ff4ea"
      },
      "outputs": [
        {
          "output_type": "stream",
          "name": "stdout",
          "text": [
            "5.002220859751105\n"
          ]
        }
      ],
      "source": [
        "\n",
        "# Here is a very simple function\n",
        "def fn(x1, x2):\n",
        "    return x1*5 + x2*x2\n",
        "\n",
        "# Lets calculate the rate of change of output of this function wrt x1\n",
        "x1 = 10\n",
        "x2 = 20\n",
        "delta_x = 0.000000000001\n",
        "\n",
        "delta_y = fn(x1+delta_x, x2) - fn(x1, x2)\n",
        "df_dx1 = delta_y / delta_x\n",
        "\n",
        "print(df_dx1)"
      ]
    },
    {
      "cell_type": "code",
      "execution_count": 20,
      "metadata": {
        "colab": {
          "base_uri": "https://localhost:8080/"
        },
        "id": "C06sRn-Md6U2",
        "outputId": "e9911425-c2de-4626-e28e-03d442700ac3"
      },
      "outputs": [
        {
          "output_type": "stream",
          "name": "stdout",
          "text": [
            "39.960923459148034\n"
          ]
        }
      ],
      "source": [
        "# Now, lets calculate the rate of change of output of this function wrt x2\n",
        "\n",
        "delta_y = fn(x1, x2+delta_x) - fn(x1, x2)\n",
        "df_dx2 = delta_y / delta_x\n",
        "print(df_dx2)"
      ]
    },
    {
      "cell_type": "code",
      "execution_count": 21,
      "metadata": {
        "id": "HO-sHum-d6U2"
      },
      "outputs": [],
      "source": [
        "import numpy as np\n",
        "\n",
        "# The first argument is the function,\n",
        "# second argument is the idx of the input with respect to which we are differentiating.\n",
        "# Third arguments is a variable arguments - there can be many values. The function is called with these values.\n",
        "\n",
        "def diffp(fn, idx, *args):\n",
        "    delta = 0.000000000001\n",
        "\n",
        "    # Call the underlying function with args as such\n",
        "    y = fn(*args)\n",
        "\n",
        "    # Now, increase only one input - at idx.\n",
        "    args = list(args)\n",
        "    args[idx] += delta\n",
        "\n",
        "    # Now, calulate the output after changing one of the inputs a little bit.\n",
        "    y1 = fn(*args)\n",
        "    return (y1 - y)/delta\n"
      ]
    },
    {
      "cell_type": "code",
      "execution_count": 22,
      "metadata": {
        "colab": {
          "base_uri": "https://localhost:8080/"
        },
        "id": "X1eaPwvCd6U2",
        "outputId": "c6f4c57c-6c1d-4a59-f101-25c927812d87"
      },
      "outputs": [
        {
          "output_type": "stream",
          "name": "stdout",
          "text": [
            "5\n"
          ]
        },
        {
          "output_type": "execute_result",
          "data": {
            "text/plain": [
              "3.000266701747023"
            ]
          },
          "metadata": {},
          "execution_count": 22
        }
      ],
      "source": [
        "# Let us test it using a very simple function.\n",
        "# This function can be differentiated with respect to m, c or x.\n",
        "def line_y(m, c, x):\n",
        "    return m*x + c\n",
        "print(line_y(1,2,3))\n",
        "# Notice how we are passing the function as the first argument.\n",
        "# The second argument is the index of the value with respect to which we are differentiating\n",
        "# Remaining values are the values of the arguments to be passed while calling line_y\n",
        "diffp(line_y, 0, 1, 2, 3) # differentiate wrt m"
      ]
    },
    {
      "cell_type": "code",
      "execution_count": 23,
      "metadata": {
        "colab": {
          "base_uri": "https://localhost:8080/"
        },
        "id": "yg-ZJZ5xd6U2",
        "outputId": "3750a134-a40c-49a8-91ca-7af140d60b8e"
      },
      "outputs": [
        {
          "output_type": "execute_result",
          "data": {
            "text/plain": [
              "1.000088900582341"
            ]
          },
          "metadata": {},
          "execution_count": 23
        }
      ],
      "source": [
        "diffp(line_y, 1, 1, 2, 3) # differentiate wrt c"
      ]
    },
    {
      "cell_type": "code",
      "execution_count": 24,
      "metadata": {
        "colab": {
          "base_uri": "https://localhost:8080/"
        },
        "id": "1W5K7tHTd6U2",
        "outputId": "f8b5d4d7-dcc8-446b-d048-d6a90905e7d5"
      },
      "outputs": [
        {
          "output_type": "execute_result",
          "data": {
            "text/plain": [
              "1.000088900582341"
            ]
          },
          "metadata": {},
          "execution_count": 24
        }
      ],
      "source": [
        "diffp(line_y, 2, 1, 2, 3) # differentiate wrt x"
      ]
    },
    {
      "cell_type": "markdown",
      "metadata": {
        "id": "qWePP5YMd6U2"
      },
      "source": [
        "## Chain Rule\n",
        "\n"
      ]
    },
    {
      "cell_type": "code",
      "execution_count": 25,
      "metadata": {
        "colab": {
          "base_uri": "https://localhost:8080/"
        },
        "id": "e5lkPY3md6U8",
        "outputId": "804e4707-db4c-4612-acce-ce1e1dcb34db"
      },
      "outputs": [
        {
          "output_type": "execute_result",
          "data": {
            "text/plain": [
              "4.000355602329364"
            ]
          },
          "metadata": {},
          "execution_count": 25
        }
      ],
      "source": [
        "x = 2\n",
        "dt_dx = diffp(sq, 0, x)\n",
        "dt_dx"
      ]
    },
    {
      "cell_type": "code",
      "execution_count": 26,
      "metadata": {
        "id": "f6s-q3g3d6U8"
      },
      "outputs": [],
      "source": [
        "t = sq(2)\n",
        "dy_dt = diffp(cb, 0, t)"
      ]
    },
    {
      "cell_type": "code",
      "execution_count": 27,
      "metadata": {
        "colab": {
          "base_uri": "https://localhost:8080/"
        },
        "id": "EFvib-Hpd6U8",
        "outputId": "5b1f7da0-6e64-41a6-c716-60092376d576"
      },
      "outputs": [
        {
          "output_type": "execute_result",
          "data": {
            "text/plain": [
              "192.03413934105515"
            ]
          },
          "metadata": {},
          "execution_count": 27
        }
      ],
      "source": [
        "dt_dx * dy_dt"
      ]
    },
    {
      "cell_type": "markdown",
      "metadata": {
        "id": "RZXwyq4Yd6U8"
      },
      "source": [
        "# Gradient descent\n",
        "\n",
        "When we have a function and we want to find out at what point this function would attain a minima or maxima.\n",
        "See more here: https://youtu.be/4Cu9fizAtAo"
      ]
    },
    {
      "cell_type": "code",
      "execution_count": 28,
      "metadata": {
        "id": "ypVNUiy6d6U8"
      },
      "outputs": [],
      "source": [
        "# Let us first generate some data\n",
        "\n",
        "import numpy as np\n",
        "\n",
        "# Generate 100 random numbers\n",
        "X = 2*np.random.random((100, 1))"
      ]
    },
    {
      "cell_type": "code",
      "execution_count": 29,
      "metadata": {
        "id": "N1jL1qqgd6U9"
      },
      "outputs": [],
      "source": [
        "# Now, let us generate the values of y corresponding to a line with slope 3 and intercept 4\n",
        "# plus some noise\n",
        "y = 4 + 3 * X + .3*np.random.randn(100, 1)"
      ]
    },
    {
      "cell_type": "code",
      "execution_count": 30,
      "metadata": {
        "colab": {
          "base_uri": "https://localhost:8080/"
        },
        "id": "DutH6rEod6U9",
        "outputId": "bf9b2031-6d41-4180-dfb2-48e0ca5bcd5e"
      },
      "outputs": [
        {
          "output_type": "execute_result",
          "data": {
            "text/plain": [
              "array([[8.53389845],\n",
              "       [7.92307626],\n",
              "       [5.68645015]])"
            ]
          },
          "metadata": {},
          "execution_count": 30
        }
      ],
      "source": [
        "# Let us take a look at first three records\n",
        "y[0:3]"
      ]
    },
    {
      "cell_type": "code",
      "execution_count": 31,
      "metadata": {
        "colab": {
          "base_uri": "https://localhost:8080/"
        },
        "id": "0z95MxiMd6U9",
        "outputId": "49f71978-b89d-4a2f-bc4b-a12de5f3fda7"
      },
      "outputs": [
        {
          "output_type": "execute_result",
          "data": {
            "text/plain": [
              "array([[1.48168046],\n",
              "       [1.34225111],\n",
              "       [0.53129451]])"
            ]
          },
          "metadata": {},
          "execution_count": 31
        }
      ],
      "source": [
        "X[0:3]"
      ]
    },
    {
      "cell_type": "code",
      "execution_count": 32,
      "metadata": {
        "colab": {
          "base_uri": "https://localhost:8080/"
        },
        "id": "8NUQBznXd6U9",
        "outputId": "a625fe4f-0c70-4b40-9dda-9eb09726c721"
      },
      "outputs": [
        {
          "output_type": "execute_result",
          "data": {
            "text/plain": [
              "array([[8.44504138],\n",
              "       [8.02675332],\n",
              "       [5.59388352]])"
            ]
          },
          "metadata": {},
          "execution_count": 32
        }
      ],
      "source": [
        "4+3*X[0:3]"
      ]
    },
    {
      "cell_type": "code",
      "execution_count": 33,
      "metadata": {
        "scrolled": true,
        "colab": {
          "base_uri": "https://localhost:8080/",
          "height": 368
        },
        "id": "RpdkDi7pd6U-",
        "outputId": "047f1194-4c22-42a1-eb78-3648027b4ead"
      },
      "outputs": [
        {
          "output_type": "display_data",
          "data": {
            "text/plain": [
              "<Figure size 1100x400 with 1 Axes>"
            ],
            "image/png": "[encoded data removed]"
          },
          "metadata": {}
        }
      ],
      "source": [
        "# Let us plot it using matplotlib\n",
        "\n",
        "from matplotlib import pyplot as plt\n",
        "\n",
        "plt.figure(figsize=(11,4))\n",
        "plt.scatter(X, y)\n",
        "plt.show()\n",
        "\n",
        "# horizontal axis is x and vertical axis is y"
      ]
    },
    {
      "cell_type": "code",
      "execution_count": 34,
      "metadata": {
        "id": "1Wmd7kfNd6U-"
      },
      "outputs": [],
      "source": [
        "def error(m, c, X, y):\n",
        "    ypred = m*X + c\n",
        "    err = ypred-y\n",
        "    return np.sum(err*err)"
      ]
    },
    {
      "cell_type": "code",
      "execution_count": 35,
      "metadata": {
        "colab": {
          "base_uri": "https://localhost:8080/"
        },
        "id": "qULJZvIqd6U-",
        "outputId": "52a9f39c-54e4-486e-e94b-6a4a15cac34d"
      },
      "outputs": [
        {
          "output_type": "execute_result",
          "data": {
            "text/plain": [
              "200"
            ]
          },
          "metadata": {},
          "execution_count": 35
        }
      ],
      "source": [
        "error(3, 4, np.array([1,2,3]), np.array([1,2,3]))"
      ]
    },
    {
      "cell_type": "code",
      "execution_count": 36,
      "metadata": {
        "colab": {
          "base_uri": "https://localhost:8080/"
        },
        "id": "ulPfHIW2d6U-",
        "outputId": "103164c7-884d-44c9-9903-509ca1a4c337"
      },
      "outputs": [
        {
          "output_type": "execute_result",
          "data": {
            "text/plain": [
              "10.376610853385815"
            ]
          },
          "metadata": {},
          "execution_count": 36
        }
      ],
      "source": [
        "error(3, 4, X, y)"
      ]
    },
    {
      "cell_type": "code",
      "execution_count": 37,
      "metadata": {
        "colab": {
          "base_uri": "https://localhost:8080/"
        },
        "id": "twwMUijfd6U-",
        "outputId": "f3e201e2-10e1-4087-88a3-685b73859aa6"
      },
      "outputs": [
        {
          "output_type": "execute_result",
          "data": {
            "text/plain": [
              "10.663352577311258"
            ]
          },
          "metadata": {},
          "execution_count": 37
        }
      ],
      "source": [
        "error(3.04, 4, X, y)"
      ]
    },
    {
      "cell_type": "markdown",
      "metadata": {
        "id": "ohn_n_7Nd6U_"
      },
      "source": [
        "![image.png](attachment:image.png)"
      ]
    },
    {
      "cell_type": "code",
      "execution_count": 43,
      "metadata": {
        "id": "il6UWMYpd6U_"
      },
      "outputs": [],
      "source": [
        "def grad_fit(X, y):\n",
        "    m = np.random.random()\n",
        "    c = np.random.random()\n",
        "    learning_rate = 0.001\n",
        "    for i in range(100):\n",
        "        print(\"i: \", i, \" Error: \", error(m, c, X, y),\"m=\",m,\"c=\",c)\n",
        "        dE_dm = diffp(error, 0, m, c, X, y)\n",
        "        dE_dc = diffp(error, 1, m, c, X, y)\n",
        "\n",
        "        m = m - learning_rate * dE_dm\n",
        "        c = c - learning_rate * dE_dc\n",
        "    return (m, c)"
      ]
    },
    {
      "cell_type": "code",
      "execution_count": 44,
      "metadata": {
        "scrolled": true,
        "colab": {
          "base_uri": "https://localhost:8080/"
        },
        "id": "fv8lo07yd6U_",
        "outputId": "62dcf990-7102-445a-a14e-75b8d3e92372"
      },
      "outputs": [
        {
          "output_type": "stream",
          "name": "stdout",
          "text": [
            "i:  0  Error:  5114.307279043198 m= 0.02441482556740804 c= 0.04992468316372212\n",
            "i:  1  Error:  1639.4658068021663 m= 1.6123925748629406 c= 1.4378135980692106\n",
            "i:  2  Error:  538.5243601536197 m= 2.4961940513107836 c= 2.2304382306643173\n",
            "i:  3  Error:  189.45014971962846 m= 2.983796898298795 c= 2.6872319446297706\n",
            "i:  4  Error:  78.15816751516475 m= 3.2493409295070594 c= 2.9549644474641763\n",
            "i:  5  Error:  42.25535598322461 m= 3.389943126059268 c= 3.1159450096779846\n",
            "i:  6  Error:  30.24890075228098 m= 3.460592390275895 c= 3.216550755634257\n",
            "i:  7  Error:  25.84635805425683 m= 3.4921404877436433 c= 3.282890578158499\n",
            "i:  8  Error:  23.88845224560921 m= 3.5019282139287387 c= 3.329637184744156\n",
            "i:  9  Error:  22.73860710454788 m= 3.4997255314478823 c= 3.365071950976512\n",
            "i:  10  Error:  21.876927073839163 m= 3.4910178302211423 c= 3.3938595899158326\n",
            "i:  11  Error:  21.136806060012585 m= 3.4788888657217174 c= 3.418639767825466\n",
            "i:  12  Error:  20.463824576982187 m= 3.465043940515432 c= 3.440883308168436\n",
            "i:  13  Error:  19.838679153758886 m= 3.4504636035776346 c= 3.4614606257960485\n",
            "i:  14  Error:  19.253897402454456 m= 3.435673656532788 c= 3.4808406789139053\n",
            "i:  15  Error:  18.705643719382195 m= 3.420965421902554 c= 3.499293473761595\n",
            "i:  16  Error:  18.190925676582136 m= 3.406502324516157 c= 3.5170037514504155\n",
            "i:  17  Error:  17.707618303949104 m= 3.392380287642925 c= 3.5340780933907308\n",
            "i:  18  Error:  17.25391542749253 m= 3.3786312857059673 c= 3.550562684860365\n",
            "i:  19  Error:  16.82783048806912 m= 3.3652730822736774 c= 3.5665108165645005\n",
            "i:  20  Error:  16.427785584072033 m= 3.352295019205019 c= 3.5819331466441735\n",
            "i:  21  Error:  16.052036391879955 m= 3.33970420192735 c= 3.5968723076635296\n",
            "i:  22  Error:  15.699125750729388 m= 3.327493525013313 c= 3.611346063190963\n",
            "i:  23  Error:  15.367797121951094 m= 3.3156771993176224 c= 3.6253810585790642\n",
            "i:  24  Error:  15.056681574537988 m= 3.304216144989812 c= 3.6389719647573155\n",
            "i:  25  Error:  14.764529670359765 m= 3.293106809316203 c= 3.6521400980077896\n",
            "i:  26  Error:  14.490177634463144 m= 3.282336757798919 c= 3.664897892828362\n",
            "i:  27  Error:  14.23258014620791 m= 3.2719095431516396 c= 3.677266665501106\n",
            "i:  28  Error:  13.990752298371664 m= 3.261802072735452 c= 3.689244639669182\n",
            "i:  29  Error:  13.763667228343234 m= 3.251998359338802 c= 3.7008442498304657\n",
            "i:  30  Error:  13.550418474130382 m= 3.242503732032208 c= 3.7120903649807087\n",
            "i:  31  Error:  13.350192725920552 m= 3.2332968745335964 c= 3.7229812087630716\n",
            "i:  32  Error:  13.162196778497963 m= 3.2243813395566465 c= 3.7335380974596273\n",
            "i:  33  Error:  12.98561944105486 m= 3.215742916246643 c= 3.7437734655682515\n",
            "i:  34  Error:  12.81980927978635 m= 3.207372722819389 c= 3.7536926421594625\n",
            "i:  35  Error:  12.664132901827594 m= 3.199260101133848 c= 3.7633009563037785\n",
            "i:  36  Error:  12.517928692665988 m= 3.191403274833181 c= 3.772617947926433\n",
            "i:  37  Error:  12.380684941314527 m= 3.1837986912037084 c= 3.7816489460979437\n",
            "i:  38  Error:  12.251822996216447 m= 3.1764197048928398 c= 3.7903903981046323\n",
            "i:  39  Error:  12.130814874038963 m= 3.169271644971093 c= 3.7988636202285715\n",
            "i:  40  Error:  12.01723416549057 m= 3.162347406011111 c= 3.8070703888266006\n",
            "i:  41  Error:  11.910510644230678 m= 3.15562744808766 c= 3.8150231383965956\n",
            "i:  42  Error:  11.810320003032915 m= 3.149108218487061 c= 3.822720092581717\n",
            "i:  43  Error:  11.716210825772434 m= 3.142805704420869 c= 3.830195002161913\n",
            "i:  44  Error:  11.627804693075685 m= 3.136695036893332 c= 3.8374407617098267\n",
            "i:  45  Error:  11.544858769649483 m= 3.130779768618129 c= 3.8444573712254577\n",
            "i:  46  Error:  11.466906705342438 m= 3.1250474650973845 c= 3.851266146990879\n",
            "i:  47  Error:  11.393765932412329 m= 3.1194856918332223 c= 3.857849325437696\n",
            "i:  48  Error:  11.325076751431313 m= 3.114096225182482 c= 3.864229999204822\n",
            "i:  49  Error:  11.260563254362125 m= 3.1088737360746452 c= 3.8704152737196136\n",
            "i:  50  Error:  11.199963097070814 m= 3.1038146717960333 c= 3.8764140307662682\n",
            "i:  51  Error:  11.143086438242431 m= 3.0989065978487704 c= 3.882217388560589\n",
            "i:  52  Error:  11.089640328699511 m= 3.0941637250875718 c= 3.887859097882524\n",
            "i:  53  Error:  11.039457497986854 m= 3.0895523027324887 c= 3.893312513379483\n",
            "i:  54  Error:  10.992369169948883 m= 3.085093647065594 c= 3.898598951333538\n",
            "i:  55  Error:  10.948154242013217 m= 3.0807717708753333 c= 3.903720188101529\n",
            "i:  56  Error:  10.906674637857458 m= 3.076581345091188 c= 3.9086726709697768\n",
            "i:  57  Error:  10.867663343604288 m= 3.0725188169994797 c= 3.9134830452908727\n",
            "i:  58  Error:  10.831063466600623 m= 3.0685859629570476 c= 3.91814065292378\n",
            "i:  59  Error:  10.796713623123825 m= 3.064784559320731 c= 3.922657928366375\n",
            "i:  60  Error:  10.764452470686807 m= 3.061096842522136 c= 3.9270330952618178\n",
            "i:  61  Error:  10.73413330790492 m= 3.0575210362044234 c= 3.931276811751145\n",
            "i:  62  Error:  10.705632876496306 m= 3.0540553640107535 c= 3.935396183261714\n",
            "i:  63  Error:  10.678892873508275 m= 3.050692720513769 c= 3.9393787752956495\n",
            "i:  64  Error:  10.653771785560433 m= 3.04743132935663 c= 3.9432387987076662\n",
            "i:  65  Error:  10.630193978618347 m= 3.0442729668961763 c= 3.9469780298546038\n",
            "i:  66  Error:  10.608051357855652 m= 3.0412034222776927 c= 3.9505946923796227\n",
            "i:  67  Error:  10.587295375318492 m= 3.0382457881400913 c= 3.954102997137438\n",
            "i:  68  Error:  10.567796586324148 m= 3.0353751954876205 c= 3.957501167771211\n",
            "i:  69  Error:  10.549441122551524 m= 3.032589867963441 c= 3.9608051914924953\n",
            "i:  70  Error:  10.532198308098272 m= 3.0298933582812313 c= 3.9640115155876128\n",
            "i:  71  Error:  10.516042215834318 m= 3.0272767846567947 c= 3.9671041528450086\n",
            "i:  72  Error:  10.500877038558873 m= 3.0247454761606494 c= 3.9701026431899162\n",
            "i:  73  Error:  10.486644592075272 m= 3.0222923273654376 c= 3.9730052102654962\n",
            "i:  74  Error:  10.47325981921533 m= 3.0199120092006413 c= 3.975822512212785\n",
            "i:  75  Error:  10.460706318168544 m= 3.017608074379939 c= 3.9785492199612644\n",
            "i:  76  Error:  10.448923731662735 m= 3.015387628330689 c= 3.9811995443656496\n",
            "i:  77  Error:  10.437837790272352 m= 3.0132240257002993 c= 3.983766379998583\n",
            "i:  78  Error:  10.427434229857571 m= 3.0111172664887706 c= 3.986242621432707\n",
            "i:  79  Error:  10.417677493556795 m= 3.0090886669781756 c= 3.988647808593255\n",
            "i:  80  Error:  10.408517869538926 m= 3.007124016313799 c= 3.990978388766548\n",
            "i:  81  Error:  10.399904551541598 m= 3.005210879997765 c= 3.9932343619525863\n",
            "i:  82  Error:  10.391814362363998 m= 3.0033670215984674 c= 3.995429939006085\n",
            "i:  83  Error:  10.384233300401576 m= 3.0015835593317095 c= 3.9975526854291683\n",
            "i:  84  Error:  10.377092364121982 m= 2.9998445059859367 c= 3.999611483006033\n",
            "i:  85  Error:  10.370385572814738 m= 2.9981622960590246 c= 4.0016098844503585\n",
            "i:  86  Error:  10.364094869978059 m= 2.996529824123616 c= 4.0035407843347866\n",
            "i:  87  Error:  10.358196891535178 m= 2.9949488665365496 c= 4.005407735372996\n",
            "i:  88  Error:  10.352644898040783 m= 2.993419423297826 c= 4.007226724776542\n",
            "i:  89  Error:  10.347436949986907 m= 2.9919361653369267 c= 4.008985318047548\n",
            "i:  90  Error:  10.342549383879069 m= 2.9904937635833337 c= 4.010683515186015\n",
            "i:  91  Error:  10.337956479747904 m= 2.989101099821244 c= 4.012335527046657\n",
            "i:  92  Error:  10.333641769403927 m= 2.987747515909621 c= 4.013934248202117\n",
            "i:  93  Error:  10.329593422945756 m= 2.9864401172758224 c= 4.015485007722914\n",
            "i:  94  Error:  10.32579932369104 m= 2.985177127563009 c= 4.016986029252207\n",
            "i:  95  Error:  10.322223854069943 m= 2.9839514413438226 c= 4.0184479709310335\n",
            "i:  96  Error:  10.318878715224677 m= 2.982754176834067 c= 4.019847740120481\n",
            "i:  97  Error:  10.315734041791718 m= 2.981595992174778 c= 4.021208429459461\n",
            "i:  98  Error:  10.312776547939308 m= 2.9804857691501527 c= 4.022540697089012\n",
            "i:  99  Error:  10.309996372168225 m= 2.9793968624076004 c= 4.023823226727059\n"
          ]
        }
      ],
      "source": [
        "m, c = grad_fit(X, y)"
      ]
    },
    {
      "cell_type": "code",
      "execution_count": 40,
      "metadata": {
        "colab": {
          "base_uri": "https://localhost:8080/"
        },
        "id": "JDyP7c_Vd6VA",
        "outputId": "57f236c2-75fc-498c-c0c8-215d20986cc0"
      },
      "outputs": [
        {
          "output_type": "execute_result",
          "data": {
            "text/plain": [
              "(2.9852010761279195, 4.016963250946339)"
            ]
          },
          "metadata": {},
          "execution_count": 40
        }
      ],
      "source": [
        "m, c"
      ]
    },
    {
      "cell_type": "code",
      "execution_count": 41,
      "metadata": {
        "colab": {
          "base_uri": "https://localhost:8080/",
          "height": 368
        },
        "id": "balCNHFmd6VA",
        "outputId": "cdd05aa2-7d01-47b5-949e-8e2985371eb9"
      },
      "outputs": [
        {
          "output_type": "display_data",
          "data": {
            "text/plain": [
              "<Figure size 1100x400 with 1 Axes>"
            ],
            "image/png": "[encoded data removed]"
          },
          "metadata": {}
        }
      ],
      "source": [
        "from matplotlib import pyplot as plt\n",
        "\n",
        "x1 = 0\n",
        "x2 = 2\n",
        "\n",
        "y1 = m*x1 + c\n",
        "y2 = m*x2 + c\n",
        "\n",
        "ycap = m*X + c\n",
        "plt.figure(figsize=(11,4))\n",
        "plt.subplot()\n",
        "\n",
        "# plt.scatter(X, ycap, color='r')\n",
        "plt.plot([x1, x2], [y1, y2], color = 'r')\n",
        "plt.subplot()\n",
        "plt.scatter(X, y, color='b')\n",
        "plt.show()"
      ]
    },
    {
      "cell_type": "code",
      "source": [
        "# Compute theta hat\n",
        "\n",
        "# Apply the normal equation\n",
        "# inv() function from NumPy’s Linear Algebra module (np.linalg) to compute the inverse of a matrix\n",
        "# the dot() method for matrix multiplication\n",
        "\n",
        "theta_best = np.linalg.inv(X.T.dot(X)).dot(X.T).dot(y)\n",
        "theta_best"
      ],
      "metadata": {
        "colab": {
          "base_uri": "https://localhost:8080/"
        },
        "id": "BKT9gmIRFCm5",
        "outputId": "0b179509-f04d-41bb-e131-c49e6e8dea4f"
      },
      "execution_count": 42,
      "outputs": [
        {
          "output_type": "execute_result",
          "data": {
            "text/plain": [
              "array([[5.97947509]])"
            ]
          },
          "metadata": {},
          "execution_count": 42
        }
      ]
    },
    {
      "cell_type": "code",
      "execution_count": 42,
      "metadata": {
        "id": "bpUkqRrOd6VC"
      },
      "outputs": [],
      "source": []
    }
  ],
  "metadata": {
    "kernelspec": {
      "display_name": "Python 3",
      "language": "python",
      "name": "python3"
    },
    "language_info": {
      "codemirror_mode": {
        "name": "ipython",
        "version": 3
      },
      "file_extension": ".py",
      "mimetype": "text/x-python",
      "name": "python",
      "nbconvert_exporter": "python",
      "pygments_lexer": "ipython3",
      "version": "3.6.8"
    },
    "toc": {
      "base_numbering": 1,
      "nav_menu": {},
      "number_sections": true,
      "sideBar": true,
      "skip_h1_title": false,
      "title_cell": "Table of Contents",
      "title_sidebar": "Contents",
      "toc_cell": false,
      "toc_position": {},
      "toc_section_display": true,
      "toc_window_display": false
    },
    "colab": {
      "provenance": []
    }
  },
  "nbformat": 4,
  "nbformat_minor": 0
}